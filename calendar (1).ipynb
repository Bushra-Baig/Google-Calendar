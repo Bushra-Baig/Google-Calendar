{
  "nbformat": 4,
  "nbformat_minor": 0,
  "metadata": {
    "colab": {
      "provenance": []
    },
    "kernelspec": {
      "name": "python3",
      "display_name": "Python 3"
    },
    "language_info": {
      "name": "python"
    }
  },
  "cells": [
    {
      "cell_type": "code",
      "source": [
        "!pip install langchain openai"
      ],
      "metadata": {
        "id": "it4EW8DryqAM"
      },
      "execution_count": null,
      "outputs": []
    },
    {
      "cell_type": "code",
      "source": [
        "!pip install langchain-experimental"
      ],
      "metadata": {
        "id": "sAnbNPZrysVQ"
      },
      "execution_count": null,
      "outputs": []
    },
    {
      "cell_type": "code",
      "source": [
        "!pip install langchain openai langchain-experimental"
      ],
      "metadata": {
        "id": "SzHGWJd5yxtX"
      },
      "execution_count": null,
      "outputs": []
    },
    {
      "cell_type": "code",
      "source": [
        "!pip install -U langchain langgraph google-api-python-client langchain[google-genai]"
      ],
      "metadata": {
        "id": "iOgOEaB3y2Hj"
      },
      "execution_count": null,
      "outputs": []
    },
    {
      "cell_type": "code",
      "source": [
        "!pip install langchain openai google-auth google-auth-oauthlib google-auth-httplib2 google-api-python-client"
      ],
      "metadata": {
        "id": "PZYmDWs-y5lE"
      },
      "execution_count": null,
      "outputs": []
    },
    {
      "cell_type": "code",
      "source": [
        "import os\n",
        "import openai\n",
        "from langchain.agents import Tool\n",
        "from langchain.agents.agent_toolkits import create_retriever_tool\n",
        "from langchain.agents.agent_types import AgentType\n",
        "from langchain.chains.llm_math.base import LLMMathChain"
      ],
      "metadata": {
        "id": "nX5y0DoqzAup"
      },
      "execution_count": null,
      "outputs": []
    },
    {
      "cell_type": "code",
      "source": [
        "import os\n",
        "import openai\n",
        "from langchain.agents import create_openai_functions_agent\n",
        "from langchain.agents import AgentExecutor\n",
        "from langchain.agents import Tool\n",
        "from google.auth.transport.requests import Request\n",
        "from google.oauth2.service_account import Credentials\n",
        "from googleapiclient.discovery import build"
      ],
      "metadata": {
        "id": "ffb0kCGCzH1u"
      },
      "execution_count": null,
      "outputs": []
    },
    {
      "cell_type": "code",
      "source": [
        "from google.oauth2 import service_account\n",
        "from googleapiclient.discovery import build\n",
        "import datetime\n",
        "\n",
        "# Path to your service account key file\n",
        "SERVICE_ACCOUNT_FILE = '/content/.json'\n",
        "\n",
        "# Scopes required for Google Calendar\n",
        "SCOPES = ['https://www.googleapis.com/auth/calendar.readonly']\n",
        "\n",
        "# Authenticate\n",
        "credentials = service_account.Credentials.from_service_account_file(\n",
        "    SERVICE_ACCOUNT_FILE, scopes=SCOPES)\n",
        "\n",
        "# Build the service\n",
        "service = build('calendar', 'v3', credentials=credentials)\n",
        "\n",
        "# Get upcoming events\n",
        "now = datetime.datetime.utcnow().isoformat() + 'Z'\n",
        "events_result = service.events().list(\n",
        "    calendarId='primary', timeMin=now,\n",
        "    maxResults=5, singleEvents=True,\n",
        "    orderBy='startTime').execute()\n",
        "events = events_result.get('items', [])\n",
        "\n",
        "for event in events:\n",
        "    start = event['start'].get('dateTime', event['start'].get('date'))\n",
        "    print(start, event['summary'])"
      ],
      "metadata": {
        "id": "op9rFLUmzZhw"
      },
      "execution_count": null,
      "outputs": []
    },
    {
      "cell_type": "code",
      "source": [
        "def get_upcoming_events():\n",
        "    from google.oauth2 import service_account\n",
        "    from googleapiclient.discovery import build\n",
        "    import datetime\n",
        "\n",
        "    SERVICE_ACCOUNT_FILE = 'credentials.json'\n",
        "    SCOPES = ['https://www.googleapis.com/auth/calendar.readonly']\n",
        "\n",
        "    credentials = service_account.Credentials.from_service_account_file(\n",
        "        SERVICE_ACCOUNT_FILE, scopes=SCOPES)\n",
        "\n",
        "    service = build('calendar', 'v3', credentials=credentials)\n",
        "\n",
        "    now = datetime.datetime.utcnow().isoformat() + 'Z'\n",
        "    events_result = service.events().list(\n",
        "        calendarId='primary', timeMin=now,\n",
        "        maxResults=5, singleEvents=True,\n",
        "        orderBy='startTime').execute()\n",
        "    events = events_result.get('items', [])\n",
        "\n",
        "    if not events:\n",
        "        return \"No upcoming events found.\"\n",
        "\n",
        "    response = \"\"\n",
        "    for event in events:\n",
        "        start = event['start'].get('dateTime', event['start'].get('date'))\n",
        "        summary = event.get('summary', 'No title')\n",
        "        response += f\"{start}: {summary}\\n\"\n",
        "    return response.strip()"
      ],
      "metadata": {
        "id": "HUovHzpdzp7K"
      },
      "execution_count": null,
      "outputs": []
    },
    {
      "cell_type": "code",
      "source": [
        "from langchain.agents import Tool\n",
        "\n",
        "calendar_tool = Tool(\n",
        "    name=\"Google Calendar\",\n",
        "    func=lambda _: get_upcoming_events(),\n",
        "    description=\"Use this to check upcoming calendar events.\"\n",
        ")"
      ],
      "metadata": {
        "id": "liFp8Do43gW2"
      },
      "execution_count": null,
      "outputs": []
    },
    {
      "cell_type": "code",
      "source": [
        "!pip install -U langchain langchain-community google-auth google-api-python-client\n",
        "\n",
        "import os\n",
        "from langchain.agents import initialize_agent, AgentType\n",
        "from langchain.tools import Tool\n",
        "from langchain_google_genai import ChatGoogleGenerativeAI\n",
        "\n",
        "# Optional: Set API key environment variables (if not set elsewhere)\n",
        "os.environ[\"GOOGLE_API_KEY\"] = \"API key\"  # Replace with actual key\n",
        "\n",
        "# 1. Initialize the Gemini model\n",
        "llm = ChatGoogleGenerativeAI(model=\"gemini-2.0-flash\", temperature=0)\n",
        "\n",
        "# 2. Define a dummy calendar tool for testing (replace with real implementation)\n",
        "def dummy_calendar_tool(query: str) -> str:\n",
        "    return \"You have a meeting today at 3 PM.\"\n",
        "\n",
        "calendar_tool = Tool(\n",
        "    name=\"GoogleCalendarTool\",\n",
        "    func=dummy_calendar_tool,\n",
        "    description=\"Useful for checking calendar events.\"\n",
        ")\n",
        "\n",
        "# 3. Initialize the agent\n",
        "agent = initialize_agent(\n",
        "    tools=[calendar_tool],\n",
        "    llm=llm,\n",
        "    agent=AgentType.ZERO_SHOT_REACT_DESCRIPTION,\n",
        "    verbose=True\n",
        ")\n",
        "\n",
        "# 4. Run agent with a user prompt\n",
        "response = agent.run(\"Do I have any meetings today?\")\n",
        "print(\"\\nFinal Response:\\n\", response)"
      ],
      "metadata": {
        "id": "JzR4_WWv3uAt"
      },
      "execution_count": null,
      "outputs": []
    }
  ]
}